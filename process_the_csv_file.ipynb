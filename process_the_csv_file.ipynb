{
 "cells": [
  {
   "cell_type": "code",
   "execution_count": 1,
   "id": "ed7919f4",
   "metadata": {},
   "outputs": [],
   "source": [
    "# Import python libraries\n",
    "import pandas as pd\n",
    "import os"
   ]
  },
  {
   "cell_type": "code",
   "execution_count": 2,
   "id": "2921df8d",
   "metadata": {},
   "outputs": [],
   "source": [
    "# This Function used to process a CSV file and update image paths\n",
    "def process_csv(csv_file_path, local_path, output_csv_file):\n",
    "    # Define column names\n",
    "    column_names = ['image_path']\n",
    "\n",
    "    # Load the CSV file into a DataFrame with column names\n",
    "    df = pd.read_csv(csv_file_path, names=column_names)\n",
    "\n",
    "    # Function to extract the filename from a path\n",
    "    def extract_filename(url):\n",
    "        return os.path.join(local_path, os.path.basename(url))\n",
    "\n",
    "    # Apply the extraction function and update the 'image_path' column\n",
    "    df['image_path'] = df['image_path'].apply(extract_filename)\n",
    "\n",
    "    # Save the updated DataFrame to a new CSV file\n",
    "    df.to_csv(output_csv_file, index=False)\n",
    "\n",
    "    print(f\"Extraction complete. Updated CSV saved to {output_csv_file}\")"
   ]
  },
  {
   "cell_type": "code",
   "execution_count": 5,
   "id": "d06b91e0",
   "metadata": {},
   "outputs": [
    {
     "name": "stdout",
     "output_type": "stream",
     "text": [
      "Extraction complete. Updated CSV saved to updated_non_georges.csv\n"
     ]
    }
   ],
   "source": [
    "# Process the non_georges.csv\n",
    "process_csv('non_georges.csv', 'george_test_task/no_george/', 'updated_non_georges.csv')"
   ]
  },
  {
   "cell_type": "code",
   "execution_count": 6,
   "id": "eda728a4",
   "metadata": {},
   "outputs": [
    {
     "name": "stdout",
     "output_type": "stream",
     "text": [
      "Extraction complete. Updated CSV saved to updated_georges.csv\n"
     ]
    }
   ],
   "source": [
    "# Process the georges.csv\n",
    "process_csv('georges.csv', 'george_test_task/george/', 'updated_georges.csv')"
   ]
  },
  {
   "cell_type": "code",
   "execution_count": null,
   "id": "d91b0b98",
   "metadata": {},
   "outputs": [],
   "source": []
  }
 ],
 "metadata": {
  "kernelspec": {
   "display_name": "Python 3 (ipykernel)",
   "language": "python",
   "name": "python3"
  },
  "language_info": {
   "codemirror_mode": {
    "name": "ipython",
    "version": 3
   },
   "file_extension": ".py",
   "mimetype": "text/x-python",
   "name": "python",
   "nbconvert_exporter": "python",
   "pygments_lexer": "ipython3",
   "version": "3.11.1"
  }
 },
 "nbformat": 4,
 "nbformat_minor": 5
}
