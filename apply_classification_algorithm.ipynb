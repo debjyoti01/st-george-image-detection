{
 "cells": [
  {
   "cell_type": "code",
   "execution_count": 1,
   "id": "563d7c90",
   "metadata": {},
   "outputs": [],
   "source": [
    "# import python libraries\n",
    "import cv2\n",
    "import numpy as np\n",
    "import pandas as pd\n",
    "from sklearn.model_selection import train_test_split\n",
    "from sklearn.neighbors import KNeighborsClassifier\n",
    "from sklearn.svm import SVC\n",
    "from sklearn.ensemble import RandomForestClassifier\n",
    "from sklearn.tree import DecisionTreeClassifier\n",
    "from sklearn.naive_bayes import GaussianNB\n",
    "from sklearn.linear_model import LogisticRegression\n",
    "from sklearn.metrics import accuracy_score, classification_report\n",
    "from sklearn.metrics import roc_curve, auc\n",
    "import matplotlib.pyplot as plt"
   ]
  },
  {
   "cell_type": "code",
   "execution_count": 2,
   "id": "c648e24c",
   "metadata": {},
   "outputs": [],
   "source": [
    "# get the data\n",
    "georges_df = pd.read_csv(\"updated_georges.csv\")\n",
    "non_georges_df = pd.read_csv(\"updated_non_georges.csv\")"
   ]
  },
  {
   "cell_type": "code",
   "execution_count": 3,
   "id": "4dd66069",
   "metadata": {},
   "outputs": [],
   "source": [
    "# labeling the data\n",
    "georges_df['label'] = 1\n",
    "non_georges_df['label'] = 0"
   ]
  },
  {
   "cell_type": "code",
   "execution_count": 4,
   "id": "6d4a09d9",
   "metadata": {},
   "outputs": [],
   "source": [
    "# concat and suffling the data\n",
    "data = pd.concat([georges_df, non_georges_df], ignore_index=True)\n",
    "data = data.sample(frac=1).reset_index(drop=True)"
   ]
  },
  {
   "cell_type": "code",
   "execution_count": 5,
   "id": "96662c9f",
   "metadata": {},
   "outputs": [
    {
     "data": {
      "text/plain": [
       "image_path    0\n",
       "label         0\n",
       "dtype: int64"
      ]
     },
     "execution_count": 5,
     "metadata": {},
     "output_type": "execute_result"
    }
   ],
   "source": [
    "# check there is any Null value is present or not\n",
    "data.isnull().sum()"
   ]
  },
  {
   "cell_type": "code",
   "execution_count": 6,
   "id": "3b57b066",
   "metadata": {},
   "outputs": [],
   "source": [
    "# Split into training and testing sets\n",
    "train_data, test_data, train_labels, test_labels = train_test_split(data['image_path'], data['label'], test_size=0.2, random_state=42)"
   ]
  },
  {
   "cell_type": "code",
   "execution_count": 7,
   "id": "4f21e818",
   "metadata": {},
   "outputs": [],
   "source": [
    "# Function to extract color histogram features\n",
    "def extract_color_histogram(img_path, bins=(8, 8, 8)):\n",
    "    img = cv2.imread(img_path)\n",
    "    hist = cv2.calcHist([img], [0, 1, 2], None, bins, [0, 256, 0, 256, 0, 256])\n",
    "    hist = cv2.normalize(hist, hist).flatten()\n",
    "    return hist"
   ]
  },
  {
   "cell_type": "code",
   "execution_count": 8,
   "id": "bbee86f3",
   "metadata": {},
   "outputs": [],
   "source": [
    "# Extract features for all images\n",
    "train_features = np.array([extract_color_histogram(img) for img in train_data])\n",
    "test_features = np.array([extract_color_histogram(img) for img in test_data])"
   ]
  },
  {
   "cell_type": "code",
   "execution_count": 9,
   "id": "05beb792",
   "metadata": {},
   "outputs": [
    {
     "name": "stdout",
     "output_type": "stream",
     "text": [
      "KNN Classifier:\n",
      "Accuracy: 0.6966942148760331\n",
      "Classification Report:\n",
      "               precision    recall  f1-score   support\n",
      "\n",
      "           0       0.72      0.75      0.74       687\n",
      "           1       0.66      0.63      0.64       523\n",
      "\n",
      "    accuracy                           0.70      1210\n",
      "   macro avg       0.69      0.69      0.69      1210\n",
      "weighted avg       0.70      0.70      0.70      1210\n",
      "\n"
     ]
    }
   ],
   "source": [
    "# K-Nearest Neighbors (KNN) Classifier\n",
    "knn = KNeighborsClassifier(n_neighbors=5)\n",
    "knn.fit(train_features, train_labels)\n",
    "knn_predictions = knn.predict(test_features)\n",
    "knn_accuracy = accuracy_score(test_labels, knn_predictions)\n",
    "knn_report = classification_report(test_labels, knn_predictions)\n",
    "print(\"KNN Classifier:\")\n",
    "print(f\"Accuracy: {knn_accuracy}\")\n",
    "print(\"Classification Report:\\n\", knn_report)"
   ]
  },
  {
   "cell_type": "code",
   "execution_count": 10,
   "id": "e7872c73",
   "metadata": {},
   "outputs": [
    {
     "name": "stdout",
     "output_type": "stream",
     "text": [
      "\n",
      "Support Vector Machine (SVM) Classifier:\n",
      "Accuracy: 0.6917355371900826\n",
      "Classification Report:\n",
      "               precision    recall  f1-score   support\n",
      "\n",
      "           0       0.68      0.85      0.76       687\n",
      "           1       0.71      0.48      0.57       523\n",
      "\n",
      "    accuracy                           0.69      1210\n",
      "   macro avg       0.70      0.67      0.67      1210\n",
      "weighted avg       0.70      0.69      0.68      1210\n",
      "\n"
     ]
    }
   ],
   "source": [
    "# Support Vector Machine (SVM) Classifier\n",
    "svm = SVC(kernel='linear')\n",
    "svm.fit(train_features, train_labels)\n",
    "svm_predictions = svm.predict(test_features)\n",
    "svm_accuracy = accuracy_score(test_labels, svm_predictions)\n",
    "svm_report = classification_report(test_labels, svm_predictions)\n",
    "print(\"\\nSupport Vector Machine (SVM) Classifier:\")\n",
    "print(f\"Accuracy: {svm_accuracy}\")\n",
    "print(\"Classification Report:\\n\", svm_report)"
   ]
  },
  {
   "cell_type": "code",
   "execution_count": 11,
   "id": "97845b51",
   "metadata": {},
   "outputs": [
    {
     "name": "stdout",
     "output_type": "stream",
     "text": [
      "\n",
      "Support Vector Machine (SVM) Classifier:\n",
      "Accuracy: 0.7173553719008264\n",
      "Classification Report:\n",
      "               precision    recall  f1-score   support\n",
      "\n",
      "           0       0.72      0.82      0.77       687\n",
      "           1       0.71      0.58      0.64       523\n",
      "\n",
      "    accuracy                           0.72      1210\n",
      "   macro avg       0.72      0.70      0.70      1210\n",
      "weighted avg       0.72      0.72      0.71      1210\n",
      "\n"
     ]
    }
   ],
   "source": [
    "# Support Vector Machine (SVM) Classifier\n",
    "svm = SVC(kernel='poly')\n",
    "svm.fit(train_features, train_labels)\n",
    "svm_predictions = svm.predict(test_features)\n",
    "svm_accuracy = accuracy_score(test_labels, svm_predictions)\n",
    "svm_report = classification_report(test_labels, svm_predictions)\n",
    "print(\"\\nSupport Vector Machine (SVM) Classifier:\")\n",
    "print(f\"Accuracy: {svm_accuracy}\")\n",
    "print(\"Classification Report:\\n\", svm_report)"
   ]
  },
  {
   "cell_type": "code",
   "execution_count": 12,
   "id": "26d94c05",
   "metadata": {},
   "outputs": [
    {
     "name": "stdout",
     "output_type": "stream",
     "text": [
      "\n",
      "Random Forest Classifier:\n",
      "Accuracy: 0.775206611570248\n",
      "Classification Report:\n",
      "               precision    recall  f1-score   support\n",
      "\n",
      "           0       0.77      0.86      0.81       687\n",
      "           1       0.78      0.67      0.72       523\n",
      "\n",
      "    accuracy                           0.78      1210\n",
      "   macro avg       0.78      0.76      0.77      1210\n",
      "weighted avg       0.78      0.78      0.77      1210\n",
      "\n"
     ]
    }
   ],
   "source": [
    "# Random Forest Classifier\n",
    "rf = RandomForestClassifier(n_estimators=100, random_state=42)\n",
    "rf.fit(train_features, train_labels)\n",
    "rf_predictions = rf.predict(test_features)\n",
    "rf_accuracy = accuracy_score(test_labels, rf_predictions)\n",
    "rf_report = classification_report(test_labels, rf_predictions)\n",
    "print(\"\\nRandom Forest Classifier:\")\n",
    "print(f\"Accuracy: {rf_accuracy}\")\n",
    "print(\"Classification Report:\\n\", rf_report)"
   ]
  },
  {
   "cell_type": "code",
   "execution_count": 13,
   "id": "cebd98ac",
   "metadata": {},
   "outputs": [
    {
     "name": "stdout",
     "output_type": "stream",
     "text": [
      "\n",
      "Decision Tree Classifier:\n",
      "Accuracy: 0.6867768595041323\n",
      "Classification Report:\n",
      "               precision    recall  f1-score   support\n",
      "\n",
      "           0       0.74      0.69      0.71       687\n",
      "           1       0.62      0.69      0.66       523\n",
      "\n",
      "    accuracy                           0.69      1210\n",
      "   macro avg       0.68      0.69      0.68      1210\n",
      "weighted avg       0.69      0.69      0.69      1210\n",
      "\n"
     ]
    }
   ],
   "source": [
    "# Decision Tree Classifier\n",
    "dt = DecisionTreeClassifier()\n",
    "dt.fit(train_features, train_labels)\n",
    "dt_predictions = dt.predict(test_features)\n",
    "dt_accuracy = accuracy_score(test_labels, dt_predictions)\n",
    "dt_report = classification_report(test_labels, dt_predictions)\n",
    "print(\"\\nDecision Tree Classifier:\")\n",
    "print(f\"Accuracy: {dt_accuracy}\")\n",
    "print(\"Classification Report:\\n\", dt_report)"
   ]
  },
  {
   "cell_type": "code",
   "execution_count": 14,
   "id": "a41aa870",
   "metadata": {},
   "outputs": [
    {
     "name": "stdout",
     "output_type": "stream",
     "text": [
      "\n",
      "Naive Bayes Classifier:\n",
      "Accuracy: 0.6247933884297521\n",
      "Classification Report:\n",
      "               precision    recall  f1-score   support\n",
      "\n",
      "           0       0.61      0.91      0.73       687\n",
      "           1       0.68      0.25      0.37       523\n",
      "\n",
      "    accuracy                           0.62      1210\n",
      "   macro avg       0.65      0.58      0.55      1210\n",
      "weighted avg       0.64      0.62      0.58      1210\n",
      "\n"
     ]
    }
   ],
   "source": [
    "# Naive Bayes Classifier\n",
    "nb = GaussianNB()\n",
    "nb.fit(train_features, train_labels)\n",
    "nb_predictions = nb.predict(test_features)\n",
    "nb_accuracy = accuracy_score(test_labels, nb_predictions)\n",
    "nb_report = classification_report(test_labels, nb_predictions)\n",
    "print(\"\\nNaive Bayes Classifier:\")\n",
    "print(f\"Accuracy: {nb_accuracy}\")\n",
    "print(\"Classification Report:\\n\", nb_report)"
   ]
  },
  {
   "cell_type": "code",
   "execution_count": 15,
   "id": "5e63b3d6",
   "metadata": {},
   "outputs": [
    {
     "name": "stdout",
     "output_type": "stream",
     "text": [
      "\n",
      "Logistic Regression Classifier:\n",
      "Accuracy: 0.6950413223140496\n",
      "Classification Report:\n",
      "               precision    recall  f1-score   support\n",
      "\n",
      "           0       0.70      0.82      0.75       687\n",
      "           1       0.69      0.54      0.60       523\n",
      "\n",
      "    accuracy                           0.70      1210\n",
      "   macro avg       0.69      0.68      0.68      1210\n",
      "weighted avg       0.69      0.70      0.69      1210\n",
      "\n"
     ]
    }
   ],
   "source": [
    "# Logistic Regression Classifier\n",
    "lr = LogisticRegression(random_state=42)\n",
    "lr.fit(train_features, train_labels)\n",
    "lr_predictions = lr.predict(test_features)\n",
    "lr_accuracy = accuracy_score(test_labels, lr_predictions)\n",
    "lr_report = classification_report(test_labels, lr_predictions)\n",
    "print(\"\\nLogistic Regression Classifier:\")\n",
    "print(f\"Accuracy: {lr_accuracy}\")\n",
    "print(\"Classification Report:\\n\", lr_report)"
   ]
  },
  {
   "cell_type": "code",
   "execution_count": 16,
   "id": "9b709d72",
   "metadata": {},
   "outputs": [
    {
     "name": "stdout",
     "output_type": "stream",
     "text": [
      "The image is classified as: St. George\n"
     ]
    }
   ],
   "source": [
    "# This Function is use to classify a new image using Random Forest\n",
    "def classify_image_rf(img_path, model):\n",
    "    img_feature = extract_color_histogram(img_path)\n",
    "    img_feature = np.array([img_feature])\n",
    "    prediction = model.predict(img_feature)\n",
    "    return \"St. George\" if prediction == 1 else \"Not St. George\"\n",
    "\n",
    "# Example\n",
    "new_image_path = \"george_test_task/george/00a8418680f015900aa9ee6eea4c762f.jpg\"\n",
    "result_rf = classify_image_rf(new_image_path, rf)\n",
    "print(f\"The image is classified as: {result_rf}\")\n"
   ]
  },
  {
   "cell_type": "code",
   "execution_count": 17,
   "id": "efbe7f3f",
   "metadata": {},
   "outputs": [
    {
     "data": {
      "image/png": "[encoded data removed]",
      "text/plain": [
       "<Figure size 800x800 with 1 Axes>"
      ]
     },
     "metadata": {},
     "output_type": "display_data"
    }
   ],
   "source": [
    "# Predict probabilities for the positive class\n",
    "rf_probs = rf.predict_proba(test_features)[:, 1]\n",
    "\n",
    "# Compute ROC curve and ROC area\n",
    "fpr, tpr, _ = roc_curve(test_labels, rf_probs)\n",
    "roc_auc = auc(fpr, tpr)\n",
    "\n",
    "# Plot ROC curve\n",
    "plt.figure(figsize=(8, 8))\n",
    "plt.plot(fpr, tpr, color='darkorange', lw=2, label=f'ROC curve (area = {roc_auc:.2f})')\n",
    "plt.plot([0, 1], [0, 1], color='navy', lw=2, linestyle='--')\n",
    "plt.xlabel('False Positive Rate')\n",
    "plt.ylabel('True Positive Rate')\n",
    "plt.title('Receiver Operating Characteristic (ROC) Curve for Random Forest')\n",
    "plt.legend(loc='lower right')\n",
    "plt.show()"
   ]
  },
  {
   "cell_type": "code",
   "execution_count": null,
   "id": "39a509c6",
   "metadata": {},
   "outputs": [],
   "source": []
  },
  {
   "cell_type": "code",
   "execution_count": null,
   "id": "b35186f0",
   "metadata": {},
   "outputs": [],
   "source": []
  }
 ],
 "metadata": {
  "kernelspec": {
   "display_name": "Python 3 (ipykernel)",
   "language": "python",
   "name": "python3"
  },
  "language_info": {
   "codemirror_mode": {
    "name": "ipython",
    "version": 3
   },
   "file_extension": ".py",
   "mimetype": "text/x-python",
   "name": "python",
   "nbconvert_exporter": "python",
   "pygments_lexer": "ipython3",
   "version": "3.11.1"
  }
 },
 "nbformat": 4,
 "nbformat_minor": 5
}
