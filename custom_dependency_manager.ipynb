{
 "cells": [
  {
   "cell_type": "code",
   "execution_count": 1,
   "id": "e1ccdab7",
   "metadata": {},
   "outputs": [],
   "source": [
    "import subprocess\n",
    "import json\n",
    "\n",
    "class CustomDependencyManager:\n",
    "    def __init__(self, dependencies_file=\"dependencies.json\"):\n",
    "        self.dependencies = {}\n",
    "        self.dependencies_file = dependencies_file\n",
    "\n",
    "    def add_dependency(self, package_name, version=None):\n",
    "        self.dependencies[package_name] = version\n",
    "\n",
    "    def install_dependencies(self):\n",
    "        for package, version in self.dependencies.items():\n",
    "            if version:\n",
    "                subprocess.call(['pip', 'install', f\"{package}=={version}\"])\n",
    "            else:\n",
    "                subprocess.call(['pip', 'install', package])\n",
    "\n",
    "    def update_dependencies(self):\n",
    "        for package in self.dependencies.keys():\n",
    "            subprocess.call(['pip', 'install', '--upgrade', package])\n",
    "\n",
    "    def list_installed_dependencies(self):\n",
    "        installed_packages = subprocess.check_output(['pip', 'freeze']).decode().split('\\n')\n",
    "        installed_packages = [pkg.split('==') for pkg in installed_packages]\n",
    "        return {pkg[0]: pkg[1] if len(pkg) > 1 else None for pkg in installed_packages if pkg[0]}\n",
    "\n",
    "    def save_dependencies_to_file(self):\n",
    "        with open(self.dependencies_file, 'w') as file:\n",
    "            json.dump(self.dependencies, file)\n",
    "\n",
    "    def load_dependencies_from_file(self):\n",
    "        with open(self.dependencies_file, 'r') as file:\n",
    "            self.dependencies = json.load(file)\n",
    "\n",
    "# Usage Example\n",
    "if __name__ == \"__main__\":\n",
    "    # Create a Dependency Manager instance\n",
    "    manager = CustomDependencyManager()\n",
    "\n",
    "    # Add required dependencies for the provided code\n",
    "    manager.add_dependency(\"opencv-python\")\n",
    "    manager.add_dependency(\"numpy\")\n",
    "    manager.add_dependency(\"pandas\")\n",
    "    manager.add_dependency(\"scikit-learn\")\n",
    "    manager.add_dependency(\"matplotlib\")\n",
    "\n",
    "    # Install dependencies\n",
    "    manager.install_dependencies()\n"
   ]
  },
  {
   "cell_type": "code",
   "execution_count": null,
   "id": "06172dd7",
   "metadata": {},
   "outputs": [],
   "source": []
  },
  {
   "cell_type": "code",
   "execution_count": null,
   "id": "f70f4c8f",
   "metadata": {},
   "outputs": [],
   "source": []
  }
 ],
 "metadata": {
  "kernelspec": {
   "display_name": "Python 3 (ipykernel)",
   "language": "python",
   "name": "python3"
  },
  "language_info": {
   "codemirror_mode": {
    "name": "ipython",
    "version": 3
   },
   "file_extension": ".py",
   "mimetype": "text/x-python",
   "name": "python",
   "nbconvert_exporter": "python",
   "pygments_lexer": "ipython3",
   "version": "3.11.1"
  }
 },
 "nbformat": 4,
 "nbformat_minor": 5
}
